{
  "nbformat": 4,
  "nbformat_minor": 0,
  "metadata": {
    "colab": {
      "provenance": []
    },
    "kernelspec": {
      "name": "python3",
      "display_name": "Python 3"
    },
    "language_info": {
      "name": "python"
    }
  },
  "cells": [
    {
      "cell_type": "code",
      "source": [
        "import pandas as pd\n",
        "import re\n",
        "\n",
        "# Read the CSV file into a DataFrame\n",
        "df = pd.read_csv(\"/content/NLP_phonenumber_dataset.csv\")\n",
        "\n",
        "# Extract the 'PHONE NUMBER' column as a list of strings\n",
        "phone_numbers = df['PHONE NUMBER'].astype(str).tolist()"
      ],
      "metadata": {
        "id": "6Ki7Z_IOvJo_"
      },
      "execution_count": null,
      "outputs": []
    },
    {
      "cell_type": "code",
      "source": [
        "print(phone_numbers)"
      ],
      "metadata": {
        "id": "pgkAVpfPvJsP"
      },
      "execution_count": null,
      "outputs": []
    },
    {
      "cell_type": "code",
      "source": [
        "\n",
        "# Define a regular expression pattern for matching valid 10-digit mobile numbers\n",
        "pattern = re.compile(r'\\b\\d{10}\\b')"
      ],
      "metadata": {
        "id": "5GuPZBi0vJvZ"
      },
      "execution_count": null,
      "outputs": []
    },
    {
      "cell_type": "code",
      "source": [
        "# Initialize lists to store valid and invalid phone numbers\n",
        "valid_numbers = []\n",
        "invalid_numbers = []"
      ],
      "metadata": {
        "id": "i0UaWtSMvJyf"
      },
      "execution_count": null,
      "outputs": []
    },
    {
      "cell_type": "code",
      "source": [
        "# Iterate through the phone numbers and validate using regular expressions\n",
        "for number in phone_numbers:\n",
        "    match = re.match(pattern, number)\n",
        "    if match:\n",
        "        valid_numbers.append(match.group())\n",
        "    else:\n",
        "        invalid_numbers.append(number)\n"
      ],
      "metadata": {
        "id": "-AUhxaSxvJ1X"
      },
      "execution_count": null,
      "outputs": []
    },
    {
      "cell_type": "code",
      "source": [
        "\n",
        "# Print the results\n",
        "print(\"Valid 10-digit mobile numbers:\")\n",
        "print(valid_numbers)\n"
      ],
      "metadata": {
        "id": "sf2D-MHsvJ4n"
      },
      "execution_count": null,
      "outputs": []
    },
    {
      "cell_type": "code",
      "source": [
        "print(\"\\nInvalid mobile numbers:\")\n",
        "print(invalid_numbers)"
      ],
      "metadata": {
        "id": "3qHRRELivJ7i"
      },
      "execution_count": null,
      "outputs": []
    },
    {
      "cell_type": "code",
      "source": [
        "import re\n",
        "\n",
        "# Example: Match any three characters followed by '5' in the given dataset\n",
        "pattern = re.compile(r'...4')\n",
        "matches = [number for number in phone_numbers if re.search(pattern, number)]\n",
        "print(\"Matches with any three characters followed by '5':\", matches)"
      ],
      "metadata": {
        "id": "T6c14ss3vJ8S"
      },
      "execution_count": null,
      "outputs": []
    },
    {
      "cell_type": "code",
      "source": [
        "# Example: Match numbers starting with '9'\n",
        "pattern = re.compile(r'^9\\d+')\n",
        "matches = [number for number in phone_numbers if re.match(pattern, number)]\n",
        "print(\"Matches starting with '9':\", matches)\n"
      ],
      "metadata": {
        "id": "st3pI65MvJ-_"
      },
      "execution_count": null,
      "outputs": []
    },
    {
      "cell_type": "code",
      "source": [
        "# Example: Search for numbers containing '123'\n",
        "pattern = re.compile(r'123')\n",
        "matches = [number for number in phone_numbers if re.search(pattern, number)]\n",
        "print(\"Matches containing '123':\", matches)\n"
      ],
      "metadata": {
        "id": "6SVS3TdmvKB-"
      },
      "execution_count": null,
      "outputs": []
    },
    {
      "cell_type": "code",
      "source": [
        "# Example: Find all sequences of consecutive digits\n",
        "pattern = re.compile(r'\\d+')\n",
        "matches = [match for number in phone_numbers for match in re.findall(pattern, number)]\n",
        "print(\"All sequences of consecutive digits:\", matches)"
      ],
      "metadata": {
        "id": "GY2Ca_OPvKE_"
      },
      "execution_count": null,
      "outputs": []
    },
    {
      "cell_type": "code",
      "source": [
        "# Example: Split numbers using non-digit characters as delimiters\n",
        "pattern = re.compile(r'\\D+')\n",
        "splits = [re.split(pattern, number) for number in phone_numbers]\n",
        "print(\"Number splits using non-digit characters as delimiters:\", splits)\n"
      ],
      "metadata": {
        "id": "W1ol51KhvKJQ"
      },
      "execution_count": null,
      "outputs": []
    },
    {
      "cell_type": "code",
      "source": [],
      "metadata": {
        "id": "YI8-Oa9QvKMf"
      },
      "execution_count": null,
      "outputs": []
    },
    {
      "cell_type": "code",
      "source": [],
      "metadata": {
        "id": "1W7GQ4ZtvKP3"
      },
      "execution_count": null,
      "outputs": []
    },
    {
      "cell_type": "code",
      "source": [],
      "metadata": {
        "id": "9zYInwuHvKTH"
      },
      "execution_count": null,
      "outputs": []
    },
    {
      "cell_type": "code",
      "source": [],
      "metadata": {
        "id": "Ji0XuL_AvKWv"
      },
      "execution_count": null,
      "outputs": []
    },
    {
      "cell_type": "code",
      "source": [],
      "metadata": {
        "id": "FGIfGUZ7vKaH"
      },
      "execution_count": null,
      "outputs": []
    },
    {
      "cell_type": "code",
      "source": [],
      "metadata": {
        "id": "PnBiSKgtvKdP"
      },
      "execution_count": null,
      "outputs": []
    },
    {
      "cell_type": "code",
      "source": [],
      "metadata": {
        "id": "3ncAk-HyvKgj"
      },
      "execution_count": null,
      "outputs": []
    },
    {
      "cell_type": "code",
      "source": [],
      "metadata": {
        "id": "_Lwe7YvBvKlR"
      },
      "execution_count": null,
      "outputs": []
    }
  ]
}